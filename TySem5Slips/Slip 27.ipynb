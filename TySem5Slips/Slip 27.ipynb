{
 "cells": [
  {
   "cell_type": "markdown",
   "id": "e348136d",
   "metadata": {},
   "source": [
    "# Q.2) Create a dataset data.csv having two categorical column (the country column, and the purchased column).\n",
    "# a. Apply OneHot coding on Country column.\n",
    "# b. Apply Label encoding on purchased column"
   ]
  },
  {
   "cell_type": "code",
   "execution_count": 2,
   "id": "f31f2289",
   "metadata": {},
   "outputs": [
    {
     "name": "stdout",
     "output_type": "stream",
     "text": [
      "   purchased  country_France  country_Germany  country_UK  country_USA\n",
      "0          1           False            False       False         True\n",
      "1          0           False            False       False        False\n",
      "2          1           False            False        True        False\n",
      "3          0           False             True       False        False\n",
      "4          1            True            False       False        False\n",
      "5          0           False            False       False         True\n",
      "6          1           False             True       False        False\n",
      "7          1           False            False       False        False\n"
     ]
    }
   ],
   "source": [
    "import pandas as pd\n",
    "from sklearn.preprocessing import LabelEncoder\n",
    "\n",
    "df = pd.DataFrame(columns=['country', 'purchased'])\n",
    "\n",
    "df.loc[0] = ['USA', 'Yes']\n",
    "df.loc[1] = ['Canada', 'No']\n",
    "df.loc[2] = ['UK', 'Yes']\n",
    "df.loc[3] = ['Germany', 'No']\n",
    "df.loc[4] = ['France', 'Yes']\n",
    "df.loc[5] = ['USA', 'No']\n",
    "df.loc[6] = ['Germany', 'Yes']\n",
    "df.loc[7] = ['Canada', 'Yes']\n",
    "df.to_csv('slip27_demo_data.csv', index=False) # file madhe data write kela\n",
    "\n",
    "df = pd.read_csv('slip27_demo_data.csv') # atta create kela la csv file open keli\n",
    "\n",
    "df_one_hot = pd.get_dummies(df, columns=['country'], drop_first=True) #Apply OneHot coding on Country column.\n",
    "\n",
    "le = LabelEncoder() # Apply Label Encoding on the purchased column\n",
    "df_one_hot['purchased'] = le.fit_transform(df_one_hot['purchased'])\n",
    "\n",
    "print(df_one_hot)\n"
   ]
  }
 ],
 "metadata": {
  "kernelspec": {
   "display_name": "Python 3 (ipykernel)",
   "language": "python",
   "name": "python3"
  },
  "language_info": {
   "codemirror_mode": {
    "name": "ipython",
    "version": 3
   },
   "file_extension": ".py",
   "mimetype": "text/x-python",
   "name": "python",
   "nbconvert_exporter": "python",
   "pygments_lexer": "ipython3",
   "version": "3.12.6"
  }
 },
 "nbformat": 4,
 "nbformat_minor": 5
}
