{
 "cells": [
  {
   "cell_type": "markdown",
   "id": "090f130c",
   "metadata": {},
   "source": [
    "# Q.2) Dataset Name: winequality-red.csv Write a program in python to perform following tasks\n",
    "# a. Rescaling: Normalised the dataset using MinMaxScaler class\n",
    "# b. Standardizing Data (transform them into a standard Gaussian distribution with a mean of 0 and a standard deviation of 1)\n",
    "# c. Normalizing Data ( rescale each observation to a length of 1 (a unit norm). For this, use the Normalizer class.)"
   ]
  },
  {
   "cell_type": "code",
   "execution_count": 1,
   "id": "582dd11b",
   "metadata": {},
   "outputs": [
    {
     "name": "stdout",
     "output_type": "stream",
     "text": [
      "Normalized Data:\n",
      "   fixed acidity  volatile acidity  citric acid  residual sugar  chlorides  \\\n",
      "0       0.247788          0.397260         0.00        0.068493   0.106845   \n",
      "1       0.283186          0.520548         0.00        0.116438   0.143573   \n",
      "2       0.283186          0.438356         0.04        0.095890   0.133556   \n",
      "3       0.584071          0.109589         0.56        0.068493   0.105175   \n",
      "4       0.247788          0.397260         0.00        0.068493   0.106845   \n",
      "\n",
      "   free sulfur dioxide  total sulfur dioxide   density        pH  sulphates  \\\n",
      "0             0.140845              0.098940  0.567548  0.606299   0.137725   \n",
      "1             0.338028              0.215548  0.494126  0.362205   0.209581   \n",
      "2             0.197183              0.169611  0.508811  0.409449   0.191617   \n",
      "3             0.225352              0.190813  0.582232  0.330709   0.149701   \n",
      "4             0.140845              0.098940  0.567548  0.606299   0.137725   \n",
      "\n",
      "    alcohol  quality  \n",
      "0  0.153846      0.4  \n",
      "1  0.215385      0.4  \n",
      "2  0.215385      0.4  \n",
      "3  0.215385      0.6  \n",
      "4  0.153846      0.4  \n",
      "\n",
      "Standardized Data:\n",
      "   fixed acidity  volatile acidity  citric acid  residual sugar  chlorides  \\\n",
      "0      -0.528360          0.961877    -1.391472       -0.453218  -0.243707   \n",
      "1      -0.298547          1.967442    -1.391472        0.043416   0.223875   \n",
      "2      -0.298547          1.297065    -1.186070       -0.169427   0.096353   \n",
      "3       1.654856         -1.384443     1.484154       -0.453218  -0.264960   \n",
      "4      -0.528360          0.961877    -1.391472       -0.453218  -0.243707   \n",
      "\n",
      "   free sulfur dioxide  total sulfur dioxide   density        pH  sulphates  \\\n",
      "0            -0.466193             -0.379133  0.558274  1.288643  -0.579207   \n",
      "1             0.872638              0.624363  0.028261 -0.719933   0.128950   \n",
      "2            -0.083669              0.229047  0.134264 -0.331177  -0.048089   \n",
      "3             0.107592              0.411500  0.664277 -0.979104  -0.461180   \n",
      "4            -0.466193             -0.379133  0.558274  1.288643  -0.579207   \n",
      "\n",
      "    alcohol   quality  \n",
      "0 -0.960246 -0.787823  \n",
      "1 -0.584777 -0.787823  \n",
      "2 -0.584777 -0.787823  \n",
      "3 -0.584777  0.450848  \n",
      "4 -0.960246 -0.787823  \n",
      "\n",
      "Normalized Length Data:\n",
      "   fixed acidity  volatile acidity  citric acid  residual sugar  chlorides  \\\n",
      "0       0.193478          0.018302     0.000000        0.049677   0.001987   \n",
      "1       0.106989          0.012071     0.000000        0.035663   0.001344   \n",
      "2       0.134949          0.013149     0.000692        0.039793   0.001592   \n",
      "3       0.173611          0.004340     0.008681        0.029452   0.001163   \n",
      "4       0.193478          0.018302     0.000000        0.049677   0.001987   \n",
      "\n",
      "   free sulfur dioxide  total sulfur dioxide   density        pH  sulphates  \\\n",
      "0             0.287602              0.888952  0.026088  0.091771   0.014642   \n",
      "1             0.342913              0.919006  0.013673  0.043893   0.009327   \n",
      "2             0.259517              0.934261  0.017249  0.056402   0.011246   \n",
      "3             0.263517              0.930059  0.015470  0.048983   0.008991   \n",
      "4             0.287602              0.888952  0.026088  0.091771   0.014642   \n",
      "\n",
      "    alcohol   quality  \n",
      "0  0.245769  0.130728  \n",
      "1  0.134422  0.068583  \n",
      "2  0.169551  0.086506  \n",
      "3  0.151910  0.093006  \n",
      "4  0.245769  0.130728  \n"
     ]
    }
   ],
   "source": [
    "import pandas as pd\n",
    "from sklearn.preprocessing import MinMaxScaler, StandardScaler, Normalizer\n",
    "\n",
    "df = pd.read_csv('winequality-red.csv')\n",
    "\n",
    "# a. Rescaling\n",
    "min_max = MinMaxScaler()\n",
    "norm_df = pd.DataFrame(min_max.fit_transform(df), columns=df.columns)\n",
    "print(\"Normalized Data:\")\n",
    "print(norm_df.head())\n",
    "\n",
    "# b. Standardizing\n",
    "std = StandardScaler()\n",
    "std_df = pd.DataFrame(std.fit_transform(df), columns=df.columns)\n",
    "print(\"\\nStandardized Data:\")\n",
    "print(std_df.head())\n",
    "\n",
    "# c. Normalizing\n",
    "norm_len = Normalizer()\n",
    "norm_len_df = pd.DataFrame(norm_len.fit_transform(df), columns=df.columns)\n",
    "print(\"\\nNormalized Length Data:\")\n",
    "print(norm_len_df.head())\n"
   ]
  }
 ],
 "metadata": {
  "kernelspec": {
   "display_name": "Python 3 (ipykernel)",
   "language": "python",
   "name": "python3"
  },
  "language_info": {
   "codemirror_mode": {
    "name": "ipython",
    "version": 3
   },
   "file_extension": ".py",
   "mimetype": "text/x-python",
   "name": "python",
   "nbconvert_exporter": "python",
   "pygments_lexer": "ipython3",
   "version": "3.12.6"
  }
 },
 "nbformat": 4,
 "nbformat_minor": 5
}
