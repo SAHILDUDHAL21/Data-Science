{
 "cells": [
  {
   "cell_type": "markdown",
   "id": "f0cdfc2d",
   "metadata": {},
   "source": [
    "# Write a Python program to perform the following tasks :\n",
    "# a. Apply OneHot coding on Country column.\n",
    "# b. Apply Label encoding on purchased column\n",
    "# (Data.csv have two categorical column the country column, and the purchased column)."
   ]
  },
  {
   "cell_type": "code",
   "execution_count": 4,
   "id": "bd0351a5",
   "metadata": {},
   "outputs": [
    {
     "name": "stdout",
     "output_type": "stream",
     "text": [
      "    Age   Salary  Purchased  Country_France  Country_Germany  Country_Spain\n",
      "0  44.0  72000.0          0             1.0              0.0            0.0\n",
      "1  27.0  48000.0          1             0.0              0.0            1.0\n",
      "2  30.0  54000.0          0             0.0              1.0            0.0\n",
      "3  38.0  61000.0          0             0.0              0.0            1.0\n",
      "4  40.0      NaN          1             0.0              1.0            0.0\n",
      "5  35.0  58000.0          1             1.0              0.0            0.0\n",
      "6   NaN  52000.0          0             0.0              0.0            1.0\n",
      "7  48.0  79000.0          1             1.0              0.0            0.0\n",
      "8  50.0  83000.0          0             0.0              1.0            0.0\n",
      "9  37.0  67000.0          1             1.0              0.0            0.0\n"
     ]
    }
   ],
   "source": [
    "import pandas as pd\n",
    "from sklearn.preprocessing import OneHotEncoder, LabelEncoder\n",
    "\n",
    "df = pd.read_csv('Data.csv')\n",
    "\n",
    "ohe = OneHotEncoder(sparse_output=False)\n",
    "cnt_enc = ohe.fit_transform(df[['Country']])\n",
    "cnt_df = pd.DataFrame(cnt_enc, columns=ohe.get_feature_names_out(['Country']))\n",
    "\n",
    "df = pd.concat([df, cnt_df], axis=1).drop('Country', axis=1)\n",
    "\n",
    "le = LabelEncoder()\n",
    "df['Purchased'] = le.fit_transform(df['Purchased'])\n",
    "\n",
    "print(df)\n"
   ]
  }
 ],
 "metadata": {
  "kernelspec": {
   "display_name": "Python 3 (ipykernel)",
   "language": "python",
   "name": "python3"
  },
  "language_info": {
   "codemirror_mode": {
    "name": "ipython",
    "version": 3
   },
   "file_extension": ".py",
   "mimetype": "text/x-python",
   "name": "python",
   "nbconvert_exporter": "python",
   "pygments_lexer": "ipython3",
   "version": "3.12.6"
  }
 },
 "nbformat": 4,
 "nbformat_minor": 5
}
