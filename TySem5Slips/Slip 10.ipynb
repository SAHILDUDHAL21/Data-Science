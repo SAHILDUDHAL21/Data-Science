{
 "cells": [
  {
   "cell_type": "markdown",
   "id": "9ed8f50f",
   "metadata": {},
   "source": [
    "# A) Write a python program to Display column-wise mean, and median for SOCR- HeightWeight dataset."
   ]
  },
  {
   "cell_type": "code",
   "execution_count": 8,
   "id": "c822c3c5",
   "metadata": {},
   "outputs": [
    {
     "name": "stdout",
     "output_type": "stream",
     "text": [
      "Column-wise Mean:\n",
      " Height     66.367560\n",
      "Weight    161.440357\n",
      "dtype: float64\n",
      "\n",
      "Column-wise Median:\n",
      " Height     66.318070\n",
      "Weight    161.212928\n",
      "dtype: float64\n"
     ]
    }
   ],
   "source": [
    "import pandas as pd\n",
    "df = pd.read_csv('weight-height.csv')\n",
    "mean = df[['Height', 'Weight']].mean()\n",
    "median = df[['Height', 'Weight']].median()\n",
    "print(\"Column-wise Mean:\\n\", mean)\n",
    "print(\"\\nColumn-wise Median:\\n\", median)"
   ]
  },
  {
   "cell_type": "markdown",
   "id": "5edda96e",
   "metadata": {},
   "source": [
    "# Write a python program to compute sum of Manhattan distance between all pairs of points."
   ]
  },
  {
   "cell_type": "code",
   "execution_count": 9,
   "id": "0bf6abf0",
   "metadata": {},
   "outputs": [
    {
     "name": "stdout",
     "output_type": "stream",
     "text": [
      "Sum of Manhattan distances: 40\n"
     ]
    }
   ],
   "source": [
    "points = [(1, 2),(3, 4),(5, 6),(7, 8)]\n",
    "total_distance = 0\n",
    "for i in range(len(points)):\n",
    "    for j in range(i + 1, len(points)):\n",
    "        total_distance += abs(points[i][0] - points[j][0]) + abs(points[i][1] - points[j][1])\n",
    "print(\"Sum of Manhattan distances:\", total_distance)"
   ]
  }
 ],
 "metadata": {
  "kernelspec": {
   "display_name": "Python 3 (ipykernel)",
   "language": "python",
   "name": "python3"
  },
  "language_info": {
   "codemirror_mode": {
    "name": "ipython",
    "version": 3
   },
   "file_extension": ".py",
   "mimetype": "text/x-python",
   "name": "python",
   "nbconvert_exporter": "python",
   "pygments_lexer": "ipython3",
   "version": "3.12.6"
  }
 },
 "nbformat": 4,
 "nbformat_minor": 5
}
